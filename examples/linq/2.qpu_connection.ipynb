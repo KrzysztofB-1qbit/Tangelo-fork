{
 "cells": [
  {
   "cell_type": "markdown",
   "metadata": {},
   "source": [
    "# Using quantum cloud services API with Tangelo"
   ]
  },
  {
   "cell_type": "markdown",
   "metadata": {},
   "source": [
    "[![Open In Colab](https://colab.research.google.com/assets/colab-badge.svg)](https://colab.research.google.com/github/goodchemistryco/Tangelo/blob/develop/examples/linq/2.qpu_connection.ipynb)\n",
    "\n",
    "This notebook elaborates on how the `tangelo.linq` module can facilitate hardware experiments by integrating the API provided by some hardware providers (IonQ, Honeywell...) or broader quantum cloud services providers such as Azure Quantum or Braket. We essentially provide convenience wrappers to these APIs: the API of your favorite cloud provider is still called underneath, using your own credentials.\n",
    "\n",
    "This notebook should be relevant to Tangelo users that prefer to install all the dependencies on their machine, use their own credentials, and be billed directly by the target quantum cloud service(s).\n",
    "\n",
    "This approach is an alternative to using [QEMIST Cloud](https://goodchemistry.com/qemist-cloud/), which we intend to make a single and convenient entry point to reach many different platforms. What's pretty cool with this other option is that users do not have to set up the environment required by the quantum cloud(s) of their choice (e.g Braket, Azure Quantum, etc) or even an account with those services. A QEMIST Cloud account provides a single entry point enabling you to reach all of them, and pay with your QEMIST Cloud credits.\n",
    "\n",
    "\n",
    "## Table of contents\n",
    "* [1. IonQ Rest API](#1)\n",
    "    * [1.1 References](#1.1)\n",
    "    * [1.2 Environment](#1.2)\n",
    "    * [1.3 Quantum Circuit](#1.3)\n",
    "    * [1.4 IonQConnection class](#1.4)\n",
    "* [2. Azure Quantum](#2)\n",
    "* [3. Braket](#3)\n",
    "\n",
    "---"
   ]
  },
  {
   "cell_type": "markdown",
   "metadata": {},
   "source": [
    "## Requirements\n",
    "\n",
    "- Tangelo needs to be installed in your environment. The cell below does this installation for you if it is not found.\n",
    "- Ensure you have valid ID tokens and logins for the services of your choice (IonQ, Braket...), and that your environment is ready to use them (e.g install their SDK and dependencies according to the instructions they provide)"
   ]
  },
  {
   "cell_type": "code",
   "execution_count": 1,
   "metadata": {},
   "outputs": [],
   "source": [
    "# Installation of tangelo if not already installed.\n",
    "try:\n",
    "    import tangelo\n",
    "except ModuleNotFoundError:\n",
    "    !pip install git+https://github.com/goodchemistryco/Tangelo.git@develop  --quiet"
   ]
  },
  {
   "cell_type": "markdown",
   "metadata": {},
   "source": [
    "## 1. IonQ Rest API <a class=\"anchor\" id=\"1\"></a>\n",
    "\n",
    "\n",
    "### 1.1 References <a class=\"anchor\" id=\"1.1\"></a>\n",
    "\n",
    "Tangelo provides a few Python wrappers around the REST API provided by IonQ, to facilitate job submission and monitoring. The most up-to-date list of supported features and information regarding the IonQ API is available at https://docs.ionq.co\n",
    "\n",
    "### 1.2 Environment <a class=\"anchor\" id=\"1.2\"></a>\n",
    "\n",
    "Users allowed to use the IonQ API should have an ID token, e.g a string of alphanumeric characters and dashes, which can be obtained through the [IonQ dashboard](https://cloud.ionq.com/). Users need to set their `IONQ_APIKEY` environment variable to this value; here are two ways to do it:\n",
    "\n",
    "- in your terminal (`export IONQ_APIKEY=<value>`)\n",
    "- or, in your Python script (`os.environ['IONQ_APIKEY'] = <value>`)\n",
    "\n",
    "Here's an example of what it could look like for you (make sure you use a valid key, or you'll get an \"unauthorized\" error :) )"
   ]
  },
  {
   "cell_type": "code",
   "execution_count": 2,
   "metadata": {},
   "outputs": [],
   "source": [
    "import os\n",
    "os.environ[\"IONQ_APIKEY\"] = '2T14z1YQEzMLCwuYM110oXPDT2h850E4'"
   ]
  },
  {
   "cell_type": "markdown",
   "metadata": {},
   "source": [
    "### 1.3 Quantum circuit <a class=\"anchor\" id=\"1.3\"></a>\n",
    "\n",
    "IonQ uses a JSON representation for quantum circuits, which `tangelo.linq` can generate from an abstract circuit, using the `translator` module. IonQ also offers partial support for other common formats (OpenQASM, ...). For this example, we'll work with their JSON format, which is pretty much nested lists and dictionaries. For more detailed and up-to-date information, check out their [documentation](https://docs.ionq.com/#tag/quantum_programs).\n",
    "\n",
    "Below, we show how users can produce a simple quantum circuit in the JSON format:"
   ]
  },
  {
   "cell_type": "code",
   "execution_count": 3,
   "metadata": {},
   "outputs": [
    {
     "name": "stdout",
     "output_type": "stream",
     "text": [
      "{'qubits': 2, 'circuit': [{'gate': 'h', 'targets': [0]}, {'gate': 'x', 'targets': [1]}]}\n"
     ]
    }
   ],
   "source": [
    "from tangelo.linq import Circuit, Gate, translate_circuit\n",
    "\n",
    "circ1 = Circuit([Gate(\"H\", 0), Gate(\"X\", 1)])\n",
    "json_circ1 = translate_circuit(circ1, target=\"ionq\")\n",
    "print(json_circ1)"
   ]
  },
  {
   "cell_type": "markdown",
   "metadata": {},
   "source": [
    "Our convenience wrappers below do not require users to translate their circuit into the IonQ format: providing a circuit in the Tangelo format is enough."
   ]
  },
  {
   "cell_type": "markdown",
   "metadata": {},
   "source": [
    "### 1.4 IonQConnection class <a class=\"anchor\" id=\"1.4\"></a>\n",
    "\n",
    "The `IonQConnection` class encapsulates a collection of wrappers to the IonQ REST API. Internally, it stores information about the endpoint and the authorization header, containing your identification token. This class only is instantiated succesfully if your ID token has been set properly.\n",
    "\n",
    "More generally speaking, all calls to the REST API are checked for errors, and would return the IonQ error message corresponding to the unsuccessful request."
   ]
  },
  {
   "cell_type": "code",
   "execution_count": 4,
   "metadata": {},
   "outputs": [
    {
     "name": "stdout",
     "output_type": "stream",
     "text": [
      "{'error': 'Unauthorized', 'statusCode': 401}\n"
     ]
    },
    {
     "ename": "RuntimeError",
     "evalue": "Error returned by IonQ API :\nUnauthorized",
     "output_type": "error",
     "traceback": [
      "\u001b[0;31m---------------------------------------------------------------------------\u001b[0m",
      "\u001b[0;31mRuntimeError\u001b[0m                              Traceback (most recent call last)",
      "File \u001b[0;32m~/Code/env/lib/python3.9/site-packages/tangelo/linq/qpu_connection/ionq_connection.py:46\u001b[0m, in \u001b[0;36mIonQConnection._login\u001b[0;34m(self)\u001b[0m\n\u001b[1;32m     45\u001b[0m \u001b[38;5;28;01mtry\u001b[39;00m:\n\u001b[0;32m---> 46\u001b[0m     \u001b[38;5;28;43mself\u001b[39;49m\u001b[38;5;241;43m.\u001b[39;49m\u001b[43mjob_get_history\u001b[49m\u001b[43m(\u001b[49m\u001b[43m)\u001b[49m\n\u001b[1;32m     47\u001b[0m \u001b[38;5;28;01mexcept\u001b[39;00m \u001b[38;5;167;01mRuntimeError\u001b[39;00m \u001b[38;5;28;01mas\u001b[39;00m err:\n",
      "File \u001b[0;32m~/Code/env/lib/python3.9/site-packages/tangelo/linq/qpu_connection/ionq_connection.py:175\u001b[0m, in \u001b[0;36mIonQConnection.job_get_history\u001b[0;34m(self)\u001b[0m\n\u001b[1;32m    173\u001b[0m return_dict \u001b[38;5;241m=\u001b[39m json\u001b[38;5;241m.\u001b[39mloads(job_history\u001b[38;5;241m.\u001b[39mtext)\n\u001b[0;32m--> 175\u001b[0m \u001b[38;5;28;43mself\u001b[39;49m\u001b[38;5;241;43m.\u001b[39;49m\u001b[43m_catch_request_error\u001b[49m\u001b[43m(\u001b[49m\u001b[43mreturn_dict\u001b[49m\u001b[43m)\u001b[49m\n\u001b[1;32m    176\u001b[0m \u001b[38;5;28;01mreturn\u001b[39;00m \u001b[38;5;28mself\u001b[39m\u001b[38;5;241m.\u001b[39m_get_job_dataframe(return_dict)\n",
      "File \u001b[0;32m~/Code/env/lib/python3.9/site-packages/tangelo/linq/qpu_connection/ionq_connection.py:54\u001b[0m, in \u001b[0;36mIonQConnection._catch_request_error\u001b[0;34m(self, return_dict)\u001b[0m\n\u001b[1;32m     53\u001b[0m pprint\u001b[38;5;241m.\u001b[39mpprint(return_dict)\n\u001b[0;32m---> 54\u001b[0m \u001b[38;5;28;01mraise\u001b[39;00m \u001b[38;5;167;01mRuntimeError\u001b[39;00m(\u001b[38;5;124mf\u001b[39m\u001b[38;5;124m\"\u001b[39m\u001b[38;5;124mError returned by IonQ API :\u001b[39m\u001b[38;5;130;01m\\n\u001b[39;00m\u001b[38;5;132;01m{\u001b[39;00mreturn_dict[\u001b[38;5;124m'\u001b[39m\u001b[38;5;124merror\u001b[39m\u001b[38;5;124m'\u001b[39m]\u001b[38;5;132;01m}\u001b[39;00m\u001b[38;5;124m\"\u001b[39m)\n",
      "\u001b[0;31mRuntimeError\u001b[0m: Error returned by IonQ API :\nUnauthorized",
      "\nDuring handling of the above exception, another exception occurred:\n",
      "\u001b[0;31mRuntimeError\u001b[0m                              Traceback (most recent call last)",
      "Input \u001b[0;32mIn [4]\u001b[0m, in \u001b[0;36m<cell line: 3>\u001b[0;34m()\u001b[0m\n\u001b[1;32m      1\u001b[0m \u001b[38;5;28;01mfrom\u001b[39;00m \u001b[38;5;21;01mtangelo\u001b[39;00m\u001b[38;5;21;01m.\u001b[39;00m\u001b[38;5;21;01mlinq\u001b[39;00m\u001b[38;5;21;01m.\u001b[39;00m\u001b[38;5;21;01mqpu_connection\u001b[39;00m \u001b[38;5;28;01mimport\u001b[39;00m IonQConnection\n\u001b[0;32m----> 3\u001b[0m ionq_connection \u001b[38;5;241m=\u001b[39m \u001b[43mIonQConnection\u001b[49m\u001b[43m(\u001b[49m\u001b[43m)\u001b[49m\n",
      "File \u001b[0;32m~/Code/env/lib/python3.9/site-packages/tangelo/linq/qpu_connection/ionq_connection.py:27\u001b[0m, in \u001b[0;36mIonQConnection.__init__\u001b[0;34m(self, verbose)\u001b[0m\n\u001b[1;32m     25\u001b[0m \u001b[38;5;28mself\u001b[39m\u001b[38;5;241m.\u001b[39mendpoint \u001b[38;5;241m=\u001b[39m \u001b[38;5;124m\"\u001b[39m\u001b[38;5;124mhttps://api.ionq.co\u001b[39m\u001b[38;5;124m\"\u001b[39m \u001b[38;5;241m+\u001b[39m \u001b[38;5;124m\"\u001b[39m\u001b[38;5;124m/v0.2\u001b[39m\u001b[38;5;124m\"\u001b[39m  \u001b[38;5;66;03m# Update endpoint or version number here if needed\u001b[39;00m\n\u001b[1;32m     26\u001b[0m \u001b[38;5;28mself\u001b[39m\u001b[38;5;241m.\u001b[39mapi_key \u001b[38;5;241m=\u001b[39m \u001b[38;5;28;01mNone\u001b[39;00m\n\u001b[0;32m---> 27\u001b[0m \u001b[38;5;28;43mself\u001b[39;49m\u001b[38;5;241;43m.\u001b[39;49m\u001b[43m_login\u001b[49m\u001b[43m(\u001b[49m\u001b[43m)\u001b[49m\n\u001b[1;32m     28\u001b[0m \u001b[38;5;28mself\u001b[39m\u001b[38;5;241m.\u001b[39mverbose \u001b[38;5;241m=\u001b[39m verbose\n",
      "File \u001b[0;32m~/Code/env/lib/python3.9/site-packages/tangelo/linq/qpu_connection/ionq_connection.py:48\u001b[0m, in \u001b[0;36mIonQConnection._login\u001b[0;34m(self)\u001b[0m\n\u001b[1;32m     46\u001b[0m     \u001b[38;5;28mself\u001b[39m\u001b[38;5;241m.\u001b[39mjob_get_history()\n\u001b[1;32m     47\u001b[0m \u001b[38;5;28;01mexcept\u001b[39;00m \u001b[38;5;167;01mRuntimeError\u001b[39;00m \u001b[38;5;28;01mas\u001b[39;00m err:\n\u001b[0;32m---> 48\u001b[0m     \u001b[38;5;28;01mraise\u001b[39;00m \u001b[38;5;167;01mRuntimeError\u001b[39;00m(\u001b[38;5;124mf\u001b[39m\u001b[38;5;124m\"\u001b[39m\u001b[38;5;132;01m{\u001b[39;00merr\u001b[38;5;132;01m}\u001b[39;00m\u001b[38;5;124m\"\u001b[39m)\n",
      "\u001b[0;31mRuntimeError\u001b[0m: Error returned by IonQ API :\nUnauthorized"
     ]
    }
   ],
   "source": [
    "from tangelo.linq.qpu_connection import IonQConnection\n",
    "\n",
    "ionq_connection = IonQConnection()"
   ]
  },
  {
   "cell_type": "markdown",
   "metadata": {},
   "source": [
    "#### Backend info\n",
    "\n",
    "Tangelo's `get_backend_info` method allows us to return some information about all the devices listed on IonQ's platform. Tangelo currently returns this info inside a `pandas.DataFrame` object, to help with visualization. "
   ]
  },
  {
   "cell_type": "code",
   "execution_count": null,
   "metadata": {},
   "outputs": [],
   "source": [
    "res = ionq_connection.get_backend_info()\n",
    "res # to display the dataframe neatly in the notebook"
   ]
  },
  {
   "cell_type": "markdown",
   "metadata": {},
   "source": [
    "This information can help users to filter or sort devices according to their needs. For example, filtering out devices who do not have enough qubits for the target experiment, as well as the unavailable devices.\n",
    "\n",
    "We can also retrieve \"characterizations\": a snapshot of the IonQ platform's performance at a moment in time. We can use the `get_characterization` method with either a backend string (ex: `qpu.harmony` or `simulator`) or a  characterization url, if available (see dataframe above)."
   ]
  },
  {
   "cell_type": "code",
   "execution_count": null,
   "metadata": {},
   "outputs": [],
   "source": [
    "charac_dict = ionq_connection.get_characterization('qpu.s11')\n",
    "print(charac_dict['fidelity'])\n",
    "print(charac_dict['timing'])"
   ]
  },
  {
   "cell_type": "markdown",
   "metadata": {},
   "source": [
    "This information can help users having a better understanding of the capabilities of a device, and anticipate its performance on their usecases.\n",
    "\n",
    "Please check [IonQ's documentation](https://docs.ionq.com/#tag/characterizations) to confirm what these quantities mean, and the units in which they are expressed in."
   ]
  },
  {
   "cell_type": "markdown",
   "metadata": {},
   "source": [
    "#### Job submission"
   ]
  },
  {
   "cell_type": "markdown",
   "metadata": {},
   "source": [
    "Job submission can be achieved through the `job_submit` method, which attempts to submit a job on a backend (simulator or QPU), and returns a job ID if submission was succesful.\n",
    "\n",
    "This method takes input arguments that need to be provided by the user:\n",
    "\n",
    "- the target backend (a string such as 'simulator' or one that refers to a QPU)\n",
    "- the quantum circuit (in Tangelo format)\n",
    "- the number of shots required\n",
    "- a name for your job\n",
    "- any other option as key arguments (see source code and IonQ documentation)\n",
    "\n",
    "Assuming a valid API key, we can then submit a simple job targeting their statevector simulator. The status of the job may be in various states (queued, ready, running ...)."
   ]
  },
  {
   "cell_type": "code",
   "execution_count": null,
   "metadata": {},
   "outputs": [],
   "source": [
    "job_id = ionq_connection.job_submit('simulator', circ1, 100, 'test_json_job')"
   ]
  },
  {
   "cell_type": "markdown",
   "metadata": {},
   "source": [
    "#### Job history and job info\n",
    "\n",
    "Users can access their job history and info through the `job_get_history` and `job_status` methods, shown as below. But IonQ also provides an [online dashboard](https://cloud.ionq.com/), which may be more convenient to you.\n",
    "\n",
    "Depending on the timing of your REST requests, the job info may differ widely, from a failed job to a completed job with results included."
   ]
  },
  {
   "cell_type": "code",
   "execution_count": null,
   "metadata": {
    "scrolled": true
   },
   "outputs": [],
   "source": [
    "job_status = ionq_connection.job_status(job_id)\n",
    "print(job_status)"
   ]
  },
  {
   "cell_type": "markdown",
   "metadata": {},
   "source": [
    "The output of `job_get_history` should at least feature the job we just submitted, and can also show a number of previous jobs run under your account. The output is a `pandas` dataframe, in order to facilitate parsing of information:"
   ]
  },
  {
   "cell_type": "code",
   "execution_count": null,
   "metadata": {},
   "outputs": [],
   "source": [
    "job_history = ionq_connection.job_get_history()\n",
    "job_history[:5] # Here we only display info of the last 5 jobs run"
   ]
  },
  {
   "cell_type": "markdown",
   "metadata": {},
   "source": [
    "#### Job results\n",
    "\n",
    "The method `job_results` provides a wrapper to a blocking call, querying for the state of the target job at regular intervals, attempting to retrieve the results. If the job has successfully completed, this method returns a dictionary with bitstring keys (ex: `01`, `11`...)\n",
    "\n",
    "IonQ raw results use a \"most-significant qubit first\" representation, encoded as an integer, but Tangelo returns them as a bitstring in least-significant order (e.g we read left-to-right), to stay consistant with its own format and what is common across other cloud services.\n",
    "\n",
    "For our example circuit, IonQ's raw results would return `{'2': 0.5, '3': 0.5}` with an exact simulator.\n",
    "- 2 is '10' in binary, indicating $q_0$ mesured in state $|0\\rangle$, and $q_1$ in state $|1\\rangle$\n",
    "- 3 is '11' in binary, indicating $q_0$ mesured in state $|1\\rangle$, and $q_1$ in state $|1\\rangle$\n",
    "\n",
    "Tangelo returns `{'01': 0.5, '11': 0.5}`."
   ]
  },
  {
   "cell_type": "code",
   "execution_count": null,
   "metadata": {},
   "outputs": [],
   "source": [
    "results = ionq_connection.job_results(job_id)\n",
    "print(results)"
   ]
  },
  {
   "cell_type": "markdown",
   "metadata": {},
   "source": [
    "#### Job cancel / delete\n",
    "\n",
    "A wrapper called `job_cancel` provides a method to cancel before execution (if the job hasn't run yet), or delete a job from the history. The cell below cancels / deletes the previously-submitted job: it therefore should not appear in the history anymore."
   ]
  },
  {
   "cell_type": "code",
   "execution_count": null,
   "metadata": {},
   "outputs": [],
   "source": [
    "ionq_connection.job_cancel(job_id)\n",
    "job_history = ionq_connection.job_get_history()\n",
    "job_history"
   ]
  },
  {
   "cell_type": "markdown",
   "metadata": {},
   "source": [
    "## 2. Azure Quantum <a class=\"anchor\" id=\"2\"></a>\n",
    "\n",
    "Though this package does not currently provide a way to directly submit jobs through Microsoft's Azure Quantum cloud services, the `translate_circuit` function (with the `target=\"qdk\"` option) in the `translator` module can parse an abstract circuit and generate Q# code that can be written to file. \n",
    "\n",
    "Azure quantum also supports circuits in a number of other formats (`cirq`, `qiskit`, IonQ...), which means any of your favorite translate function from `tangelo.linq` can come in handy: check out their [documentation](https://docs.microsoft.com/en-us/azure/quantum/concepts-circuits) for the most reliable information.\n",
    "\n",
    "Our generated Q# code is compatible with both the local QDK simulator (good for testing before submitting to an actual QPU) or by Azure Quantum. Submission through Azure Quantum will require the user to have an account on Azure, install the local CLI and Python dependencies.\n",
    "\n",
    "For an example of how one can use this package to first generate circuits, and then submit jobs through Azure quantum, please look into the `example/qsharp` folder of this package."
   ]
  },
  {
   "cell_type": "markdown",
   "metadata": {},
   "source": [
    "## 3. Braket <a class=\"anchor\" id=\"3\"></a>\n",
    "\n",
    "Tangelo currently offers to generate a quantum circuit in the Braket format using the `translate_circuit` function (with the `target=\"braket\"` option) from the translator module, and may provide convenience wrappers later on around Braket's API. Once you have a circuit in Braket's format, you can pretty much do anything you want using their SDK."
   ]
  },
  {
   "cell_type": "code",
   "execution_count": 5,
   "metadata": {},
   "outputs": [
    {
     "name": "stdout",
     "output_type": "stream",
     "text": [
      "T  : |0|1|\n",
      "          \n",
      "q0 : -H-C-\n",
      "        | \n",
      "q1 : ---X-\n",
      "\n",
      "T  : |0|1|\n"
     ]
    }
   ],
   "source": [
    "abstract_circuit = Circuit([Gate('H',0), Gate('CNOT', target=1, control=0)])\n",
    "braket_circuit = translate_circuit(abstract_circuit, target=\"braket\")\n",
    "\n",
    "print(braket_circuit)"
   ]
  },
  {
   "cell_type": "markdown",
   "metadata": {},
   "source": [
    "Users can use the [Braket python SDK](https://github.com/aws/amazon-braket-sdk-python/) provided by Amazon (`amazon-braket-sdk`) to submit experiments to backends available in the Braket cloud and retrieve results, or simply run them using the [LocalSimulator](https://docs.aws.amazon.com/braket/latest/developerguide/braket-get-started-run-circuit.html) that comes with the SDK.\n",
    "\n",
    "Braket relies on you installing the AWS CLI, and assumes you have an IAM user with proper permissions (Braket, S3 buckets). The Braket services can also be accessed through your web browser, which gives you access to managed python notebooks.\n",
    "\n",
    "> Signing up for [QEMIST Cloud](https://goodchemistry.com/qemist-cloud/) allows you to otherwise use a single entry-point, does not require you to install Braket dependencies, and pay with your QEMIST Cloud credits."
   ]
  },
  {
   "cell_type": "markdown",
   "metadata": {},
   "source": [
    "This simple [Braket example](https://github.com/aws/amazon-braket-sdk-python/blob/main/examples/bell.py) shows how you can retrieve measurement counts. Bitstrings are read left-to-right (first is qubit 0, then qubit 1...).\n",
    "\n",
    "The `measurement_counts` method returns an object of the built-in Python `Counter` class."
   ]
  },
  {
   "cell_type": "code",
   "execution_count": 6,
   "metadata": {},
   "outputs": [],
   "source": [
    "# Illustrates what Braket may return for a 2-qubit circuit, run with 100 shots.\n",
    "from collections import Counter\n",
    "counts = Counter({'00':53, '11':47})"
   ]
  },
  {
   "cell_type": "markdown",
   "metadata": {},
   "source": [
    "This object can then be passed to other Tangelo functions right away. Below, we show how to compute an expectation value:"
   ]
  },
  {
   "cell_type": "code",
   "execution_count": 7,
   "metadata": {},
   "outputs": [
    {
     "name": "stdout",
     "output_type": "stream",
     "text": [
      "Frequencies: {'00': 0.53, '11': 0.47}\n",
      "Expectation value for ZZ operator 1.0\n"
     ]
    }
   ],
   "source": [
    "from tangelo.linq import get_expectation_value_from_frequencies_oneterm\n",
    "from tangelo.linq.helpers.circuits.measurement_basis import pauli_string_to_of\n",
    "\n",
    "# Rescale counts to obtain frequency histogram\n",
    "freqs = {k:v/100 for k,v in counts.items()}\n",
    "print(f\"Frequencies: {freqs}\")\n",
    "\n",
    "# Compute expectation value for ZZ operator\n",
    "exp_ZZ = get_expectation_value_from_frequencies_oneterm(pauli_string_to_of(\"ZZ\"), freqs)\n",
    "print(f\"Expectation value for ZZ operator {exp_ZZ}\")"
   ]
  },
  {
   "cell_type": "code",
   "execution_count": null,
   "metadata": {},
   "outputs": [],
   "source": []
  }
 ],
 "metadata": {
  "kernelspec": {
   "display_name": "Python 3 (ipykernel)",
   "language": "python",
   "name": "python3"
  },
  "language_info": {
   "codemirror_mode": {
    "name": "ipython",
    "version": 3
   },
   "file_extension": ".py",
   "mimetype": "text/x-python",
   "name": "python",
   "nbconvert_exporter": "python",
   "pygments_lexer": "ipython3",
   "version": "3.9.10"
  },
  "vscode": {
   "interpreter": {
    "hash": "95050af2697fca56ed7491a4fb0b04c1282c0de0a7e0a7cacd318a8297b0b1d8"
   }
  }
 },
 "nbformat": 4,
 "nbformat_minor": 2
}
